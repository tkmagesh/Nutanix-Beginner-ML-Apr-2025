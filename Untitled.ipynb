{
 "cells": [
  {
   "cell_type": "markdown",
   "id": "923decad",
   "metadata": {},
   "source": [
    "# Machine Learning"
   ]
  },
  {
   "cell_type": "code",
   "execution_count": 2,
   "id": "3d92cd38",
   "metadata": {},
   "outputs": [
    {
     "name": "stdout",
     "output_type": "stream",
     "text": [
      "Welcome to ML!\n"
     ]
    }
   ],
   "source": [
    "print(\"Welcome to ML!\")"
   ]
  }
 ],
 "metadata": {
  "kernelspec": {
   "display_name": "ML_Beginner_Apr_WS",
   "language": "python",
   "name": "ml_beginner_apr_ws"
  },
  "language_info": {
   "codemirror_mode": {
    "name": "ipython",
    "version": 3
   },
   "file_extension": ".py",
   "mimetype": "text/x-python",
   "name": "python",
   "nbconvert_exporter": "python",
   "pygments_lexer": "ipython3",
   "version": "3.12.8"
  }
 },
 "nbformat": 4,
 "nbformat_minor": 5
}
